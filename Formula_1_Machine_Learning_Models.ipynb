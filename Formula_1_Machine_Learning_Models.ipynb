{
  "nbformat": 4,
  "nbformat_minor": 0,
  "metadata": {
    "colab": {
      "provenance": [],
      "authorship_tag": "ABX9TyPH9+rYuf43hjbNczBCTKSf",
      "include_colab_link": true
    },
    "kernelspec": {
      "name": "python3",
      "display_name": "Python 3"
    },
    "language_info": {
      "name": "python"
    }
  },
  "cells": [
    {
      "cell_type": "markdown",
      "metadata": {
        "id": "view-in-github",
        "colab_type": "text"
      },
      "source": [
        "<a href=\"https://colab.research.google.com/github/annmarie520/DATASCI112/blob/main/Formula_1_Machine_Learning_Models.ipynb\" target=\"_parent\"><img src=\"https://colab.research.google.com/assets/colab-badge.svg\" alt=\"Open In Colab\"/></a>"
      ]
    },
    {
      "cell_type": "code",
      "execution_count": 1,
      "metadata": {
        "id": "A1AEcrWVHDH8"
      },
      "outputs": [],
      "source": [
        "import pandas as pd\n",
        "import numpy as np\n",
        "from numpy.random import choice\n",
        "import matplotlib.pyplot as plt\n",
        "from sklearn.model_selection import cross_val_score, GridSearchCV\n",
        "from sklearn.linear_model import LinearRegression\n",
        "from sklearn.neighbors import KNeighborsRegressor\n",
        "from sklearn.ensemble import RandomForestRegressor, VotingRegressor, StackingRegressor\n",
        "from sklearn.compose import make_column_transformer\n",
        "from sklearn.preprocessing import OneHotEncoder, Normalizer, StandardScaler, MaxAbsScaler, MinMaxScaler\n",
        "from sklearn.pipeline import make_pipeline\n",
        "from sklearn.metrics import mean_squared_error\n",
        "from sklearn.model_selection import train_test_split\n",
        "from sklearn.feature_extraction.text import TfidfVectorizer\n",
        "from sklearn.model_selection import cross_val_score\n",
        "from sklearn.preprocessing import MinMaxScaler\n",
        "import copy\n",
        "from itertools import combinations\n",
        "import csv"
      ]
    },
    {
      "cell_type": "markdown",
      "source": [
        "## Train/Test Data"
      ],
      "metadata": {
        "id": "HUZIR_aFAJ6m"
      }
    },
    {
      "cell_type": "code",
      "source": [
        "df_f1 = pd.read_csv('/content/f1_data_with_float.csv')\n",
        "df_f1 = df_f1.dropna()"
      ],
      "metadata": {
        "id": "hoVwiyUEAe1Z"
      },
      "execution_count": 4,
      "outputs": []
    },
    {
      "cell_type": "code",
      "source": [
        "train_idx = choice(len(df_f1), len(df_f1)//2, replace=False)\n",
        "test_idx = np.delete(np.arange(len(df_f1)), train_idx)"
      ],
      "metadata": {
        "id": "AIVEoqUsH1Os"
      },
      "execution_count": 5,
      "outputs": []
    },
    {
      "cell_type": "code",
      "source": [
        "df_train = df_f1.iloc[train_idx]\n",
        "df_test = df_f1.iloc[test_idx]"
      ],
      "metadata": {
        "id": "wBxb443DH3JT"
      },
      "execution_count": 6,
      "outputs": []
    },
    {
      "cell_type": "markdown",
      "source": [
        "## Variable Combinations"
      ],
      "metadata": {
        "id": "6fWMerYwIb_e"
      }
    },
    {
      "cell_type": "code",
      "source": [
        "quantitative_variables = [\"q1_float\", \"q2_float\",\"q3_float\",\"humidity_qualifying\",\"rainfall_qualifying\",\"humidity_race\",\"rainfall_race\",\"air_temp_qualifying\",\"air_temp_race\",\"wind_speed_qualifying\",\"wind_speed_race\",\"wind_direction_race\",\"wind_direction_qualifying\"]\n",
        "categorical_variables = [\"name_GP\",\"name_team\"]\n",
        "y_train = df_train[\"fastest_lap_float\"]"
      ],
      "metadata": {
        "id": "DNbyhTU6IeVt"
      },
      "execution_count": 63,
      "outputs": []
    },
    {
      "cell_type": "code",
      "source": [
        "variable_combinations = []\n",
        "\n",
        "for i in range(1, len(quantitative_variables)):\n",
        "  combinations_at_index = list(combinations(quantitative_variables, i))\n",
        "  for element in combinations_at_index:\n",
        "    variable_combinations.append(list(element))"
      ],
      "metadata": {
        "id": "2mgf3WevIhkd"
      },
      "execution_count": 64,
      "outputs": []
    },
    {
      "cell_type": "code",
      "source": [
        "import copy\n",
        "combination_rmse = pd.Series()\n",
        "for variable_combination in variable_combinations:\n",
        "  pre_processing = [(StandardScaler(), variable_combination),(OneHotEncoder(handle_unknown=\"ignore\"), categorical_variables)]\n",
        "\n",
        "  pipeline = make_pipeline(make_column_transformer(*pre_processing,remainder='passthrough'),KNeighborsRegressor(n_neighbors = 8, metric = \"euclidean\")) \n",
        "  \n",
        "  train_features = copy.deepcopy(variable_combination)\n",
        "  train_features.append(categorical_variables[0])\n",
        "  train_features.append(categorical_variables[1])\n",
        "  cross_val = -cross_val_score(pipeline, \n",
        "                              X=df_train[train_features],\n",
        "                              y=y_train,\n",
        "                              scoring=\"neg_mean_squared_error\", cv=10)\n",
        "  rmse_calc = np.sqrt(cross_val.mean())\n",
        "  combination_rmse[str(variable_combination)] = rmse_calc\n",
        "\n",
        "combination_rmse.sort_values()"
      ],
      "metadata": {
        "colab": {
          "base_uri": "https://localhost:8080/"
        },
        "id": "9UveFc6GOQKm",
        "outputId": "ba56b6a6-0c3e-49eb-fb77-cdda0d8a78b0"
      },
      "execution_count": 65,
      "outputs": [
        {
          "output_type": "stream",
          "name": "stderr",
          "text": [
            "<ipython-input-65-d09a28561981>:2: FutureWarning: The default dtype for empty Series will be 'object' instead of 'float64' in a future version. Specify a dtype explicitly to silence this warning.\n",
            "  combination_rmse = pd.Series()\n"
          ]
        },
        {
          "output_type": "execute_result",
          "data": {
            "text/plain": [
              "['q3_float', 'humidity_qualifying', 'rainfall_qualifying', 'air_temp_qualifying', 'air_temp_race', 'wind_direction_race']                                          0.137325\n",
              "['q3_float', 'humidity_qualifying', 'air_temp_qualifying', 'air_temp_race', 'wind_direction_race']                                                                 0.137717\n",
              "['q1_float', 'humidity_qualifying', 'rainfall_qualifying', 'air_temp_qualifying', 'air_temp_race']                                                                 0.137814\n",
              "['q1_float', 'q2_float', 'humidity_qualifying', 'rainfall_qualifying', 'air_temp_race']                                                                            0.137844\n",
              "['q2_float', 'humidity_qualifying', 'rainfall_qualifying', 'air_temp_qualifying', 'air_temp_race']                                                                 0.137847\n",
              "                                                                                                                                                                     ...   \n",
              "['rainfall_qualifying', 'humidity_race', 'rainfall_race', 'wind_speed_qualifying', 'wind_speed_race', 'wind_direction_race', 'wind_direction_qualifying']          0.166510\n",
              "['humidity_qualifying', 'rainfall_qualifying', 'humidity_race', 'wind_speed_qualifying', 'wind_speed_race', 'wind_direction_race', 'wind_direction_qualifying']    0.166578\n",
              "['rainfall_qualifying', 'humidity_race', 'rainfall_race', 'air_temp_race', 'wind_speed_qualifying', 'wind_direction_race', 'wind_direction_qualifying']            0.166788\n",
              "['humidity_race', 'air_temp_race', 'wind_speed_qualifying', 'wind_speed_race', 'wind_direction_race']                                                              0.166916\n",
              "['humidity_race', 'air_temp_race', 'wind_speed_qualifying', 'wind_direction_race']                                                                                 0.167796\n",
              "Length: 8190, dtype: float64"
            ]
          },
          "metadata": {},
          "execution_count": 65
        }
      ]
    },
    {
      "cell_type": "markdown",
      "source": [
        "Variables: 'q3_float', 'humidity_qualifying', 'rainfall_qualifying', 'air_temp_qualifying', 'air_temp_race', 'wind_direction_race' yields RMSE = 0.0137325 but with earlier testing I found that q1, q2, q3, humidity qualifying, humidity race, rainfall race, and rainfall qualifying yields the best test RMSE so I used those variables "
      ],
      "metadata": {
        "id": "WN8r91UPIxpX"
      }
    },
    {
      "cell_type": "markdown",
      "source": [
        "## Hyperparameter testing"
      ],
      "metadata": {
        "id": "Ho7RGzSsH7GI"
      }
    },
    {
      "cell_type": "code",
      "source": [
        "pre_processing = [(StandardScaler(), [\"q1_float\", \"q2_float\", \"q3_float\",\"humidity_qualifying\",\"rainfall_qualifying\",\"humidity_race\",\"rainfall_race\"])]\n",
        "\n",
        "\n",
        "x_train = df_train[[\"q1_float\", \"q2_float\", \"q3_float\",\"humidity_qualifying\",\"rainfall_qualifying\",\"humidity_race\",\"rainfall_race\"]]\n",
        "y_train = df_train[\"fastest_lap_float\"]\n",
        "\n",
        "pipeline = make_pipeline(\n",
        "    make_column_transformer(\n",
        "        *pre_processing,\n",
        "        remainder='drop'),\n",
        "    KNeighborsRegressor(n_neighbors = 20, metric = \"euclidean\")\n",
        ")  "
      ],
      "metadata": {
        "id": "TbGR0dgefNrF"
      },
      "execution_count": 21,
      "outputs": []
    },
    {
      "cell_type": "code",
      "source": [
        "grid_search = GridSearchCV(pipeline,\n",
        "                   param_grid={\n",
        "                       \"kneighborsregressor__n_neighbors\": range(1, 20)\n",
        "                       },\n",
        "                   scoring=\"neg_mean_squared_error\",\n",
        "                   error_score='raise',\n",
        "                   cv=5)"
      ],
      "metadata": {
        "id": "EuGzowBGICPa"
      },
      "execution_count": 22,
      "outputs": []
    },
    {
      "cell_type": "code",
      "source": [
        "grid_search.fit(x_train, y_train)\n",
        "grid_search.best_estimator_"
      ],
      "metadata": {
        "colab": {
          "base_uri": "https://localhost:8080/",
          "height": 211
        },
        "id": "BSJYb6yyID1U",
        "outputId": "6df63a2b-e42d-430a-bb17-67800064c809"
      },
      "execution_count": 23,
      "outputs": [
        {
          "output_type": "execute_result",
          "data": {
            "text/plain": [
              "Pipeline(steps=[('columntransformer',\n",
              "                 ColumnTransformer(transformers=[('standardscaler',\n",
              "                                                  StandardScaler(),\n",
              "                                                  ['q1_float', 'q2_float',\n",
              "                                                   'q3_float',\n",
              "                                                   'humidity_qualifying',\n",
              "                                                   'rainfall_qualifying',\n",
              "                                                   'humidity_race',\n",
              "                                                   'rainfall_race'])])),\n",
              "                ('kneighborsregressor',\n",
              "                 KNeighborsRegressor(metric='euclidean', n_neighbors=15))])"
            ],
            "text/html": [
              "<style>#sk-container-id-4 {color: black;background-color: white;}#sk-container-id-4 pre{padding: 0;}#sk-container-id-4 div.sk-toggleable {background-color: white;}#sk-container-id-4 label.sk-toggleable__label {cursor: pointer;display: block;width: 100%;margin-bottom: 0;padding: 0.3em;box-sizing: border-box;text-align: center;}#sk-container-id-4 label.sk-toggleable__label-arrow:before {content: \"▸\";float: left;margin-right: 0.25em;color: #696969;}#sk-container-id-4 label.sk-toggleable__label-arrow:hover:before {color: black;}#sk-container-id-4 div.sk-estimator:hover label.sk-toggleable__label-arrow:before {color: black;}#sk-container-id-4 div.sk-toggleable__content {max-height: 0;max-width: 0;overflow: hidden;text-align: left;background-color: #f0f8ff;}#sk-container-id-4 div.sk-toggleable__content pre {margin: 0.2em;color: black;border-radius: 0.25em;background-color: #f0f8ff;}#sk-container-id-4 input.sk-toggleable__control:checked~div.sk-toggleable__content {max-height: 200px;max-width: 100%;overflow: auto;}#sk-container-id-4 input.sk-toggleable__control:checked~label.sk-toggleable__label-arrow:before {content: \"▾\";}#sk-container-id-4 div.sk-estimator input.sk-toggleable__control:checked~label.sk-toggleable__label {background-color: #d4ebff;}#sk-container-id-4 div.sk-label input.sk-toggleable__control:checked~label.sk-toggleable__label {background-color: #d4ebff;}#sk-container-id-4 input.sk-hidden--visually {border: 0;clip: rect(1px 1px 1px 1px);clip: rect(1px, 1px, 1px, 1px);height: 1px;margin: -1px;overflow: hidden;padding: 0;position: absolute;width: 1px;}#sk-container-id-4 div.sk-estimator {font-family: monospace;background-color: #f0f8ff;border: 1px dotted black;border-radius: 0.25em;box-sizing: border-box;margin-bottom: 0.5em;}#sk-container-id-4 div.sk-estimator:hover {background-color: #d4ebff;}#sk-container-id-4 div.sk-parallel-item::after {content: \"\";width: 100%;border-bottom: 1px solid gray;flex-grow: 1;}#sk-container-id-4 div.sk-label:hover label.sk-toggleable__label {background-color: #d4ebff;}#sk-container-id-4 div.sk-serial::before {content: \"\";position: absolute;border-left: 1px solid gray;box-sizing: border-box;top: 0;bottom: 0;left: 50%;z-index: 0;}#sk-container-id-4 div.sk-serial {display: flex;flex-direction: column;align-items: center;background-color: white;padding-right: 0.2em;padding-left: 0.2em;position: relative;}#sk-container-id-4 div.sk-item {position: relative;z-index: 1;}#sk-container-id-4 div.sk-parallel {display: flex;align-items: stretch;justify-content: center;background-color: white;position: relative;}#sk-container-id-4 div.sk-item::before, #sk-container-id-4 div.sk-parallel-item::before {content: \"\";position: absolute;border-left: 1px solid gray;box-sizing: border-box;top: 0;bottom: 0;left: 50%;z-index: -1;}#sk-container-id-4 div.sk-parallel-item {display: flex;flex-direction: column;z-index: 1;position: relative;background-color: white;}#sk-container-id-4 div.sk-parallel-item:first-child::after {align-self: flex-end;width: 50%;}#sk-container-id-4 div.sk-parallel-item:last-child::after {align-self: flex-start;width: 50%;}#sk-container-id-4 div.sk-parallel-item:only-child::after {width: 0;}#sk-container-id-4 div.sk-dashed-wrapped {border: 1px dashed gray;margin: 0 0.4em 0.5em 0.4em;box-sizing: border-box;padding-bottom: 0.4em;background-color: white;}#sk-container-id-4 div.sk-label label {font-family: monospace;font-weight: bold;display: inline-block;line-height: 1.2em;}#sk-container-id-4 div.sk-label-container {text-align: center;}#sk-container-id-4 div.sk-container {/* jupyter's `normalize.less` sets `[hidden] { display: none; }` but bootstrap.min.css set `[hidden] { display: none !important; }` so we also need the `!important` here to be able to override the default hidden behavior on the sphinx rendered scikit-learn.org. See: https://github.com/scikit-learn/scikit-learn/issues/21755 */display: inline-block !important;position: relative;}#sk-container-id-4 div.sk-text-repr-fallback {display: none;}</style><div id=\"sk-container-id-4\" class=\"sk-top-container\"><div class=\"sk-text-repr-fallback\"><pre>Pipeline(steps=[(&#x27;columntransformer&#x27;,\n",
              "                 ColumnTransformer(transformers=[(&#x27;standardscaler&#x27;,\n",
              "                                                  StandardScaler(),\n",
              "                                                  [&#x27;q1_float&#x27;, &#x27;q2_float&#x27;,\n",
              "                                                   &#x27;q3_float&#x27;,\n",
              "                                                   &#x27;humidity_qualifying&#x27;,\n",
              "                                                   &#x27;rainfall_qualifying&#x27;,\n",
              "                                                   &#x27;humidity_race&#x27;,\n",
              "                                                   &#x27;rainfall_race&#x27;])])),\n",
              "                (&#x27;kneighborsregressor&#x27;,\n",
              "                 KNeighborsRegressor(metric=&#x27;euclidean&#x27;, n_neighbors=15))])</pre><b>In a Jupyter environment, please rerun this cell to show the HTML representation or trust the notebook. <br />On GitHub, the HTML representation is unable to render, please try loading this page with nbviewer.org.</b></div><div class=\"sk-container\" hidden><div class=\"sk-item sk-dashed-wrapped\"><div class=\"sk-label-container\"><div class=\"sk-label sk-toggleable\"><input class=\"sk-toggleable__control sk-hidden--visually\" id=\"sk-estimator-id-16\" type=\"checkbox\" ><label for=\"sk-estimator-id-16\" class=\"sk-toggleable__label sk-toggleable__label-arrow\">Pipeline</label><div class=\"sk-toggleable__content\"><pre>Pipeline(steps=[(&#x27;columntransformer&#x27;,\n",
              "                 ColumnTransformer(transformers=[(&#x27;standardscaler&#x27;,\n",
              "                                                  StandardScaler(),\n",
              "                                                  [&#x27;q1_float&#x27;, &#x27;q2_float&#x27;,\n",
              "                                                   &#x27;q3_float&#x27;,\n",
              "                                                   &#x27;humidity_qualifying&#x27;,\n",
              "                                                   &#x27;rainfall_qualifying&#x27;,\n",
              "                                                   &#x27;humidity_race&#x27;,\n",
              "                                                   &#x27;rainfall_race&#x27;])])),\n",
              "                (&#x27;kneighborsregressor&#x27;,\n",
              "                 KNeighborsRegressor(metric=&#x27;euclidean&#x27;, n_neighbors=15))])</pre></div></div></div><div class=\"sk-serial\"><div class=\"sk-item sk-dashed-wrapped\"><div class=\"sk-label-container\"><div class=\"sk-label sk-toggleable\"><input class=\"sk-toggleable__control sk-hidden--visually\" id=\"sk-estimator-id-17\" type=\"checkbox\" ><label for=\"sk-estimator-id-17\" class=\"sk-toggleable__label sk-toggleable__label-arrow\">columntransformer: ColumnTransformer</label><div class=\"sk-toggleable__content\"><pre>ColumnTransformer(transformers=[(&#x27;standardscaler&#x27;, StandardScaler(),\n",
              "                                 [&#x27;q1_float&#x27;, &#x27;q2_float&#x27;, &#x27;q3_float&#x27;,\n",
              "                                  &#x27;humidity_qualifying&#x27;, &#x27;rainfall_qualifying&#x27;,\n",
              "                                  &#x27;humidity_race&#x27;, &#x27;rainfall_race&#x27;])])</pre></div></div></div><div class=\"sk-parallel\"><div class=\"sk-parallel-item\"><div class=\"sk-item\"><div class=\"sk-label-container\"><div class=\"sk-label sk-toggleable\"><input class=\"sk-toggleable__control sk-hidden--visually\" id=\"sk-estimator-id-18\" type=\"checkbox\" ><label for=\"sk-estimator-id-18\" class=\"sk-toggleable__label sk-toggleable__label-arrow\">standardscaler</label><div class=\"sk-toggleable__content\"><pre>[&#x27;q1_float&#x27;, &#x27;q2_float&#x27;, &#x27;q3_float&#x27;, &#x27;humidity_qualifying&#x27;, &#x27;rainfall_qualifying&#x27;, &#x27;humidity_race&#x27;, &#x27;rainfall_race&#x27;]</pre></div></div></div><div class=\"sk-serial\"><div class=\"sk-item\"><div class=\"sk-estimator sk-toggleable\"><input class=\"sk-toggleable__control sk-hidden--visually\" id=\"sk-estimator-id-19\" type=\"checkbox\" ><label for=\"sk-estimator-id-19\" class=\"sk-toggleable__label sk-toggleable__label-arrow\">StandardScaler</label><div class=\"sk-toggleable__content\"><pre>StandardScaler()</pre></div></div></div></div></div></div></div></div><div class=\"sk-item\"><div class=\"sk-estimator sk-toggleable\"><input class=\"sk-toggleable__control sk-hidden--visually\" id=\"sk-estimator-id-20\" type=\"checkbox\" ><label for=\"sk-estimator-id-20\" class=\"sk-toggleable__label sk-toggleable__label-arrow\">KNeighborsRegressor</label><div class=\"sk-toggleable__content\"><pre>KNeighborsRegressor(metric=&#x27;euclidean&#x27;, n_neighbors=15)</pre></div></div></div></div></div></div></div>"
            ]
          },
          "metadata": {},
          "execution_count": 23
        }
      ]
    },
    {
      "cell_type": "markdown",
      "source": [
        "euclidean with n_neighbors=15 is best"
      ],
      "metadata": {
        "id": "qfXVRkjEIF4o"
      }
    },
    {
      "cell_type": "code",
      "source": [
        "x_train = df_train[[\"q1_float\", \"q2_float\", \"q3_float\",\"humidity_qualifying\",\"rainfall_qualifying\",\"humidity_race\",\"rainfall_race\"]]\n",
        "y_train = df_train[\"fastest_lap_float\"]\n",
        "\n",
        "def get_preprocessing(scaler):\n",
        "  preprocessing = [(scaler, [\"q1_float\", \"q2_float\", \"q3_float\",\"humidity_qualifying\",\"rainfall_qualifying\",\"humidity_race\",\"rainfall_race\"])]\n",
        "  return preprocessing \n",
        "\n",
        "for scaler in [StandardScaler(), MinMaxScaler()]:\n",
        "  for metric in [\"euclidean\", \"manhattan\"]:\n",
        "    pipeline = make_pipeline(make_column_transformer(*get_preprocessing(scaler)), \n",
        "                         KNeighborsRegressor(n_neighbors = 3, metric=metric))\n",
        "    print(-1 * cross_val_score(pipeline, x_train, y_train, scoring=\"neg_mean_squared_error\", cv=5).mean())"
      ],
      "metadata": {
        "colab": {
          "base_uri": "https://localhost:8080/"
        },
        "id": "LSQPZ-wxIIsM",
        "outputId": "d7b4c2ed-da04-4125-d0c6-5d2bc192b71a"
      },
      "execution_count": 26,
      "outputs": [
        {
          "output_type": "stream",
          "name": "stdout",
          "text": [
            "0.02224385978660318\n",
            "0.023251925222560848\n",
            "0.02222383886444445\n",
            "0.023248124997058202\n"
          ]
        }
      ]
    },
    {
      "cell_type": "markdown",
      "source": [
        "MinMaxScaler: euclidean is best"
      ],
      "metadata": {
        "id": "JPLClXYRIK9X"
      }
    },
    {
      "cell_type": "markdown",
      "source": [
        "## RMSE Plot"
      ],
      "metadata": {
        "id": "17kvL3ygT4qI"
      }
    },
    {
      "cell_type": "code",
      "source": [
        "grid_search_results = grid_search.cv_results_\n",
        "rmse_per_k = pd.Series(\n",
        "            np.sqrt(grid_search_results[\"mean_test_score\"]* -1),\n",
        "            index=grid_search_results[\"param_kneighborsregressor__n_neighbors\"]\n",
        "            )\n",
        "\n",
        "plt = rmse_per_k.plot.line(legend=True, label=\"Validation RMSE\", figsize=(20, 12))\n",
        "plt.set_xlabel(\"k\", fontsize = 12)\n",
        "plt.set_ylabel(\"RMSE\", fontsize = 12)"
      ],
      "metadata": {
        "colab": {
          "base_uri": "https://localhost:8080/",
          "height": 734
        },
        "id": "15AToyTHUUsD",
        "outputId": "7ea36813-d28c-4ab6-f798-8e389e75b426"
      },
      "execution_count": 32,
      "outputs": [
        {
          "output_type": "execute_result",
          "data": {
            "text/plain": [
              "Text(0, 0.5, 'RMSE')"
            ]
          },
          "metadata": {},
          "execution_count": 32
        },
        {
          "output_type": "display_data",
          "data": {
            "text/plain": [
              "<Figure size 1440x864 with 1 Axes>"
            ],
            "image/png": "[encoded data removed]"
          },
          "metadata": {
            "needs_background": "light"
          }
        }
      ]
    },
    {
      "cell_type": "markdown",
      "source": [
        "## K-nearest neighbors test"
      ],
      "metadata": {
        "id": "8VlcZ8mnmxv9"
      }
    },
    {
      "cell_type": "code",
      "source": [
        "#validation RMSE\n",
        "\n",
        "x_train = df_train[[\"q1_float\", \"q2_float\", \"q3_float\", \"humidity_qualifying\",\"rainfall_qualifying\",\"humidity_race\",\"rainfall_race\"]]\n",
        "y_train = df_train[\"fastest_lap_float\"]\n",
        "\n",
        "x_test = df_test[[\"q1_float\", \"q2_float\", \"q3_float\", \"humidity_qualifying\",\"rainfall_qualifying\",\"humidity_race\",\"rainfall_race\"]]\n",
        "y_test = df_test[\"fastest_lap_float\"]\n",
        "\n",
        "model1 = make_pipeline(\n",
        "    make_column_transformer(\n",
        "        (MinMaxScaler(), [\"humidity_qualifying\"]), (MinMaxScaler(), [\"rainfall_qualifying\"]),\n",
        "        (MinMaxScaler(), [\"rainfall_race\"]), (MinMaxScaler(), [\"humidity_race\"]),(MinMaxScaler(), [\"q1_float\"]),\n",
        "        (MinMaxScaler(), [\"q2_float\"]),(MinMaxScaler(), [\"q3_float\"]),\n",
        "        remainder='drop'),\n",
        "    KNeighborsRegressor(n_neighbors = 15, metric = \"euclidean\")\n",
        ")  \n",
        "\n",
        "model1.fit(x_train,y_train)\n",
        "y_train_predict = model1.predict(x_train)\n",
        "\n",
        "print(-1 * cross_val_score(model1, x_train, y_train, scoring=\"neg_mean_squared_error\", cv=5).mean())"
      ],
      "metadata": {
        "colab": {
          "base_uri": "https://localhost:8080/"
        },
        "id": "NgYokHHAHksh",
        "outputId": "a80472fc-660b-4be7-e4cc-56e7d7043fea"
      },
      "execution_count": 53,
      "outputs": [
        {
          "output_type": "stream",
          "name": "stdout",
          "text": [
            "0.020183098285318942\n"
          ]
        }
      ]
    },
    {
      "cell_type": "code",
      "source": [
        "#test RMSE\n",
        "x_train = df_train[[\"q1_float\", \"q2_float\", \"q3_float\", \"humidity_qualifying\",\"rainfall_qualifying\",\"humidity_race\",\"rainfall_race\"]]\n",
        "y_train = df_train[\"fastest_lap_float\"]\n",
        "\n",
        "x_test = df_test[[\"q1_float\", \"q2_float\", \"q3_float\", \"humidity_qualifying\",\"rainfall_qualifying\",\"humidity_race\",\"rainfall_race\"]]\n",
        "y_test = df_test[\"fastest_lap_float\"]\n",
        "\n",
        "model1 = make_pipeline(\n",
        "    make_column_transformer(\n",
        "        (MinMaxScaler(), [\"humidity_qualifying\"]), (MinMaxScaler(), [\"rainfall_qualifying\"]),\n",
        "        (MinMaxScaler(), [\"rainfall_race\"]), (MinMaxScaler(), [\"humidity_race\"]),(MinMaxScaler(), [\"q1_float\"]),\n",
        "        (MinMaxScaler(), [\"q2_float\"]),(MinMaxScaler(), [\"q3_float\"]),\n",
        "        remainder='drop'),\n",
        "    KNeighborsRegressor(n_neighbors = 15, metric = \"euclidean\")\n",
        ")  \n",
        "\n",
        "model1.fit(x_train,y_train)\n",
        "y_test_predict = model1.predict(x_test)\n",
        "\n",
        "print(np.sqrt(mean_squared_error(y_test, y_test_predict)))"
      ],
      "metadata": {
        "colab": {
          "base_uri": "https://localhost:8080/"
        },
        "id": "KCEiwVPOm1WD",
        "outputId": "de1e2407-64c5-41af-f527-f784b836646f"
      },
      "execution_count": 54,
      "outputs": [
        {
          "output_type": "stream",
          "name": "stdout",
          "text": [
            "0.03708017904287747\n"
          ]
        }
      ]
    },
    {
      "cell_type": "code",
      "source": [
        "y_test_predict"
      ],
      "metadata": {
        "colab": {
          "base_uri": "https://localhost:8080/"
        },
        "id": "DoT8itfDLlrE",
        "outputId": "b8585e59-9b41-4eee-97b0-262658742ffb"
      },
      "execution_count": 56,
      "outputs": [
        {
          "output_type": "execute_result",
          "data": {
            "text/plain": [
              "array([1.358296  , 1.35674933, 1.358296  , 1.358296  , 1.35674933,\n",
              "       1.358296  , 1.28518733, 1.25102933, 1.28550267, 1.25102933,\n",
              "       1.28550267, 1.23338867, 1.23338867, 1.23338867, 1.23338867,\n",
              "       1.23338867, 1.23338867, 1.23338867, 1.22451333, 1.22451333,\n",
              "       1.23158667, 1.23158667, 1.23158667, 1.138482  , 1.138482  ,\n",
              "       1.138482  , 1.138482  , 1.138482  , 1.394316  , 1.394316  ,\n",
              "       1.394316  , 1.394316  , 1.394316  , 1.394316  , 1.3477    ,\n",
              "       1.3477    , 1.3477    , 1.3477    , 1.3477    , 1.3477    ,\n",
              "       1.15005067, 1.14902667, 1.14709333, 1.29566267, 1.29566267,\n",
              "       1.30165933, 1.30165933, 1.28550267, 1.28518733, 1.28550267,\n",
              "       1.28550267, 1.138482  , 1.138482  , 1.138482  , 1.138482  ,\n",
              "       1.138482  , 1.26854467, 1.26854467, 1.26854467, 1.381958  ,\n",
              "       1.381958  , 1.381958  , 1.381958  , 1.381958  , 1.381958  ,\n",
              "       1.381958  , 1.381958  , 1.31881933, 1.31881933, 1.31084   ,\n",
              "       1.31881933, 1.394316  , 1.394316  , 1.394316  , 1.394316  ,\n",
              "       1.394316  , 1.394316  , 1.394316  , 1.23069533, 1.23069533,\n",
              "       1.23069533, 1.23069533, 1.138482  , 1.138482  , 1.138482  ,\n",
              "       1.138482  , 1.277294  , 1.277294  , 1.277294  , 1.277294  ,\n",
              "       1.277294  , 1.28955   , 1.29891267, 1.28955   , 1.28955   ,\n",
              "       1.28955   , 1.29891267, 1.24827333, 1.24827333, 1.24827333,\n",
              "       1.24827333, 1.24827333])"
            ]
          },
          "metadata": {},
          "execution_count": 56
        }
      ]
    },
    {
      "cell_type": "code",
      "source": [
        "y_test"
      ],
      "metadata": {
        "colab": {
          "base_uri": "https://localhost:8080/"
        },
        "id": "GbCPZBynLju_",
        "outputId": "6a849989-ef87-443e-846c-0e7e878a6b95"
      },
      "execution_count": 55,
      "outputs": [
        {
          "output_type": "execute_result",
          "data": {
            "text/plain": [
              "0      1.34932\n",
              "1      1.34015\n",
              "2      1.32090\n",
              "5      1.34509\n",
              "7      1.33228\n",
              "        ...   \n",
              "421    1.28723\n",
              "422    1.26762\n",
              "427    1.26419\n",
              "436    1.27496\n",
              "437    1.26615\n",
              "Name: fastest_lap_float, Length: 102, dtype: float64"
            ]
          },
          "metadata": {},
          "execution_count": 55
        }
      ]
    },
    {
      "cell_type": "markdown",
      "source": [
        "## Linear Regression test"
      ],
      "metadata": {
        "id": "EmqLwKqEjeEP"
      }
    },
    {
      "cell_type": "code",
      "source": [
        "quantitative_variables = [\"q1_float\", \"q2_float\",\"q3_float\",\"humidity_qualifying\",\"rainfall_qualifying\",\"humidity_race\",\"rainfall_race\",\"air_temp_qualifying\",\"air_temp_race\",\"wind_speed_qualifying\",\"wind_speed_race\",\"wind_direction_race\",\"wind_direction_qualifying\"]\n",
        "categorical_variables = [\"name_GP\",\"name_team\"]\n",
        "y_train = df_train[\"fastest_lap_float\"]"
      ],
      "metadata": {
        "id": "4t2Kw2Zml6rO"
      },
      "execution_count": null,
      "outputs": []
    },
    {
      "cell_type": "code",
      "source": [
        "import copy\n",
        "combination_rmse = pd.Series()\n",
        "for variable_combination in variable_combinations:\n",
        "  pre_processing = [(StandardScaler(), variable_combination),(OneHotEncoder(handle_unknown=\"ignore\"), categorical_variables)]\n",
        "\n",
        "  pipeline = make_pipeline(make_column_transformer(*pre_processing,remainder='passthrough'),LinearRegression()) \n",
        "  \n",
        "  train_features = copy.deepcopy(variable_combination)\n",
        "  train_features.append(categorical_variables[0])\n",
        "  train_features.append(categorical_variables[1])\n",
        "  cross_val = -cross_val_score(pipeline, \n",
        "                              X=df_train[train_features],\n",
        "                              y=y_train,\n",
        "                              scoring=\"neg_mean_squared_error\", cv=10)\n",
        "  rmse_calc = np.sqrt(cross_val.mean())\n",
        "  combination_rmse[str(variable_combination)] = rmse_calc\n",
        "\n",
        "combination_rmse.sort_values()"
      ],
      "metadata": {
        "colab": {
          "base_uri": "https://localhost:8080/"
        },
        "id": "eyNbWDHslkNO",
        "outputId": "d66eb675-8cc2-4d0b-dab0-c324a11907dd"
      },
      "execution_count": 38,
      "outputs": [
        {
          "output_type": "stream",
          "name": "stderr",
          "text": [
            "<ipython-input-38-9035a0ee0947>:2: FutureWarning: The default dtype for empty Series will be 'object' instead of 'float64' in a future version. Specify a dtype explicitly to silence this warning.\n",
            "  combination_rmse = pd.Series()\n"
          ]
        },
        {
          "output_type": "execute_result",
          "data": {
            "text/plain": [
              "['q3_float', 'humidity_qualifying', 'rainfall_qualifying', 'humidity_race', 'rainfall_race']    0.008025\n",
              "['q3_float', 'humidity_qualifying', 'rainfall_qualifying']                                      0.008025\n",
              "['q3_float', 'humidity_race', 'rainfall_race']                                                  0.008025\n",
              "['q3_float', 'humidity_qualifying', 'rainfall_qualifying', 'rainfall_race']                     0.008025\n",
              "['q3_float', 'humidity_qualifying', 'humidity_race']                                            0.008025\n",
              "                                                                                                  ...   \n",
              "['q1_float', 'q2_float', 'rainfall_race']                                                       0.008995\n",
              "['q1_float', 'q2_float', 'rainfall_qualifying', 'humidity_race', 'rainfall_race']               0.008995\n",
              "['q1_float', 'q2_float', 'humidity_qualifying', 'rainfall_qualifying', 'rainfall_race']         0.008995\n",
              "['q1_float', 'q2_float', 'humidity_race', 'rainfall_race']                                      0.008995\n",
              "['q1_float', 'q2_float', 'rainfall_qualifying', 'humidity_race']                                0.008995\n",
              "Length: 126, dtype: float64"
            ]
          },
          "metadata": {},
          "execution_count": 38
        }
      ]
    },
    {
      "cell_type": "markdown",
      "source": [
        "q3, rainfall race, rainfall qualifying, humidity race, and hunmidity qualifying yield the highest RMSE = 0.008025 but I added in q1 and q2 based on data exploration findings high correlation with fastest lap time"
      ],
      "metadata": {
        "id": "84tzluSxlzC4"
      }
    },
    {
      "cell_type": "code",
      "source": [
        "#validation RMSE\n",
        "\n",
        "from sklearn.linear_model import LinearRegression\n",
        "from sklearn.compose import make_column_transformer\n",
        "from sklearn.model_selection import cross_val_score\n",
        "\n",
        "pre_processing = [(MinMaxScaler(), [\"q1_float\", \"q2_float\", \"q3_float\",\"humidity_qualifying\",\"rainfall_race\", \"humidity_race\", \"rainfall_qualifying\"])]\n",
        "\n",
        "x_train = df_train[[\"q1_float\", \"q2_float\", \"q3_float\", \"humidity_qualifying\",\"rainfall_race\", \"humidity_race\",\"rainfall_qualifying\"]]\n",
        "y_train = df_train[\"fastest_lap_float\"]\n",
        "\n",
        "model2 = make_pipeline(\n",
        "    make_column_transformer(\n",
        "        *pre_processing,\n",
        "        remainder='drop'),\n",
        "    LinearRegression()\n",
        ") \n",
        "\n",
        "neg_mse = cross_val_score(\n",
        "    model2, x_train, y_train,scoring=\"neg_mean_squared_error\", cv=10\n",
        ")\n",
        "print(-neg_mse.mean())"
      ],
      "metadata": {
        "colab": {
          "base_uri": "https://localhost:8080/"
        },
        "id": "0-Hf1cWhe3KJ",
        "outputId": "e2b025ed-9af9-4e39-8ca9-9d588be8796f"
      },
      "execution_count": 37,
      "outputs": [
        {
          "output_type": "stream",
          "name": "stdout",
          "text": [
            "0.021864026406596872\n"
          ]
        }
      ]
    },
    {
      "cell_type": "code",
      "source": [
        "#test RMSE\n",
        "\n",
        "from sklearn.linear_model import LinearRegression\n",
        "from sklearn.compose import make_column_transformer\n",
        "from sklearn.model_selection import cross_val_score\n",
        "\n",
        "pre_processing = [(MinMaxScaler(), [\"q1_float\", \"q2_float\", \"q3_float\",\"humidity_qualifying\",\"rainfall_race\", \"humidity_race\", \"rainfall_qualifying\"])]\n",
        "\n",
        "x_train = df_train[[\"q1_float\", \"q2_float\", \"q3_float\", \"humidity_qualifying\",\"rainfall_race\", \"humidity_race\",\"rainfall_qualifying\"]]\n",
        "y_train = df_train[\"fastest_lap_float\"]\n",
        "\n",
        "x_test = df_test[[\"q1_float\", \"q2_float\", \"q3_float\", \"humidity_qualifying\",\"rainfall_race\", \"humidity_race\",\"rainfall_qualifying\"]]\n",
        "y_test = df_test[\"fastest_lap_float\"]\n",
        "\n",
        "model2 = make_pipeline(\n",
        "    make_column_transformer(\n",
        "        *pre_processing,\n",
        "        remainder='drop'),\n",
        "    LinearRegression()\n",
        ") \n",
        "\n",
        "model2.fit(x_train,y_train)\n",
        "y_test_predict = model2.predict(x_test)\n",
        "\n",
        "print(np.sqrt(mean_squared_error(y_test, y_test_predict)))\n",
        "\n"
      ],
      "metadata": {
        "colab": {
          "base_uri": "https://localhost:8080/"
        },
        "id": "EfbAq1M-iCla",
        "outputId": "d5b3e040-ac96-4600-c5f6-5ac8106460f8"
      },
      "execution_count": 38,
      "outputs": [
        {
          "output_type": "stream",
          "name": "stdout",
          "text": [
            "0.08800855265837021\n"
          ]
        }
      ]
    },
    {
      "cell_type": "markdown",
      "source": [
        "## Ensemble Model"
      ],
      "metadata": {
        "id": "XF6hRty_VBIF"
      }
    },
    {
      "cell_type": "code",
      "source": [
        "pre_processing = [(MinMaxScaler(), [\"q1_float\", \"q2_float\", \"q3_float\",\"humidity_qualifying\",\"rainfall_race\", \"humidity_race\", \"rainfall_qualifying\"])]\n",
        "\n",
        "x_train = df_train[[\"q1_float\", \"q2_float\", \"q3_float\", \"humidity_qualifying\",\"rainfall_race\", \"humidity_race\", \"rainfall_qualifying\"]]\n",
        "y_train = df_train[\"fastest_lap_float\"]\n",
        "\n",
        "model2 = make_pipeline(\n",
        "    make_column_transformer(\n",
        "        *pre_processing,\n",
        "        remainder='drop'),\n",
        "    LinearRegression()\n",
        ") \n",
        "\n",
        "# estimating test error\n",
        "neg_mse = cross_val_score(\n",
        "    model2, x_train, y_train,scoring=\"neg_mean_squared_error\", cv=10\n",
        ")\n",
        "print(-neg_mse.mean())"
      ],
      "metadata": {
        "colab": {
          "base_uri": "https://localhost:8080/"
        },
        "id": "a03L2H9vnIeF",
        "outputId": "4df9e891-47ff-4f58-945b-caa994d4a9a8"
      },
      "execution_count": 39,
      "outputs": [
        {
          "output_type": "stream",
          "name": "stdout",
          "text": [
            "0.021864026406596872\n"
          ]
        }
      ]
    },
    {
      "cell_type": "code",
      "source": [
        "x_train = df_train[[\"q1_float\", \"q2_float\", \"q3_float\", \"humidity_qualifying\",\"rainfall_qualifying\",\"humidity_race\",\"rainfall_race\"]]\n",
        "y_train = df_train[\"fastest_lap_float\"]\n",
        "\n",
        "x_test = df_test[[\"q1_float\", \"q2_float\", \"q3_float\", \"humidity_qualifying\",\"rainfall_qualifying\",\"humidity_race\",\"rainfall_race\"]]\n",
        "y_test = df_test[\"fastest_lap_float\"]\n",
        "\n",
        "model1 = make_pipeline(\n",
        "    make_column_transformer(\n",
        "        (MinMaxScaler(), [\"humidity_qualifying\"]), (MinMaxScaler(), [\"rainfall_qualifying\"]),\n",
        "        (MinMaxScaler(), [\"rainfall_race\"]), (MinMaxScaler(), [\"humidity_race\"]),(MinMaxScaler(), [\"q1_float\"]),\n",
        "        (MinMaxScaler(), [\"q2_float\"]),(MinMaxScaler(), [\"q3_float\"]),\n",
        "        remainder='drop'),\n",
        "    KNeighborsRegressor(n_neighbors = 15, metric = \"euclidean\")\n",
        ")  \n",
        "\n",
        "model1.fit(x_train,y_train)\n",
        "y_test_predict = model1.predict(x_test)\n",
        "\n",
        "print(-1 * cross_val_score(model1, x_train, y_train, scoring=\"neg_mean_squared_error\", cv=5).mean())\n"
      ],
      "metadata": {
        "colab": {
          "base_uri": "https://localhost:8080/"
        },
        "id": "v1zaeNJ-nLDL",
        "outputId": "cd10a48b-4563-4859-b779-3a8254c6458e"
      },
      "execution_count": 41,
      "outputs": [
        {
          "output_type": "stream",
          "name": "stdout",
          "text": [
            "0.020183098285318942\n"
          ]
        }
      ]
    },
    {
      "cell_type": "code",
      "source": [
        "# original model\n",
        "[-cross_val_score(model, x_train, y_train,scoring=\"neg_mean_squared_error\",cv=4).mean() for model in [model1, model2]]"
      ],
      "metadata": {
        "colab": {
          "base_uri": "https://localhost:8080/"
        },
        "id": "72YPXveAVF3W",
        "outputId": "d0656f0c-9473-4be6-b881-15ff121ab10f"
      },
      "execution_count": 44,
      "outputs": [
        {
          "output_type": "execute_result",
          "data": {
            "text/plain": [
              "[0.020263709328529746, 0.023176114402052434]"
            ]
          },
          "metadata": {},
          "execution_count": 44
        }
      ]
    },
    {
      "cell_type": "code",
      "source": [
        "#voting model\n",
        "from sklearn.ensemble import VotingRegressor\n",
        "voter = VotingRegressor([(\"Model 1\", model1), (\"Model 2\", model2)])\n",
        "print(-1 * cross_val_score(voter, x_train, y_train, scoring=\"neg_mean_squared_error\", cv=5).mean())"
      ],
      "metadata": {
        "colab": {
          "base_uri": "https://localhost:8080/"
        },
        "id": "6FWCkJasq3Fz",
        "outputId": "4899203a-de0c-4f43-ebb8-f0685fd855c5"
      },
      "execution_count": 45,
      "outputs": [
        {
          "output_type": "stream",
          "name": "stdout",
          "text": [
            "0.02062239838143961\n"
          ]
        }
      ]
    },
    {
      "cell_type": "code",
      "source": [
        "model1.fit(X=x_train, y=y_train)\n",
        "model2.fit(X=x_train, y=y_train)\n",
        "(model1.predict(x_test) + model2.predict(x_test)) / 2"
      ],
      "metadata": {
        "id": "dmsU19PyrMV9"
      },
      "execution_count": null,
      "outputs": []
    },
    {
      "cell_type": "code",
      "source": [
        "#stacking model\n",
        "from sklearn.ensemble import StackingRegressor\n",
        "from sklearn.linear_model import LinearRegression\n",
        "stacker = StackingRegressor([(\"Model 1\", model1), (\"Model 2\", model2)], final_estimator=LinearRegression())\n",
        "print(-1 * cross_val_score(stacker, x_train, y_train, scoring=\"neg_mean_squared_error\", cv=5).mean())"
      ],
      "metadata": {
        "colab": {
          "base_uri": "https://localhost:8080/"
        },
        "id": "d9JiHWPCrOIx",
        "outputId": "5e4959c1-4265-433e-fec4-b3f8878cf02a"
      },
      "execution_count": 47,
      "outputs": [
        {
          "output_type": "stream",
          "name": "stdout",
          "text": [
            "0.021011837886708823\n"
          ]
        }
      ]
    },
    {
      "cell_type": "code",
      "source": [
        "#voting model predictions\n",
        "voter = VotingRegressor([(\"Model 1\", model1), (\"Model 2\", model2)])\n",
        "voter.fit(x_train,y_train)\n",
        "y_test_predict = voter.predict(x_test)\n",
        "print(np.sqrt(mean_squared_error(y_test, y_test_predict)))\n",
        "\n"
      ],
      "metadata": {
        "colab": {
          "base_uri": "https://localhost:8080/"
        },
        "id": "Gtf5Iuluv7sl",
        "outputId": "609b1d10-69f9-4a10-8922-92319d1176b6"
      },
      "execution_count": 49,
      "outputs": [
        {
          "output_type": "stream",
          "name": "stdout",
          "text": [
            "0.05486751751172725\n"
          ]
        }
      ]
    },
    {
      "cell_type": "code",
      "source": [
        "#stacker model predictions\n",
        "stacker = StackingRegressor([(\"Model 1\", model1), (\"Model 2\", model2)])\n",
        "stacker.fit(x_train, y_train)\n",
        "y_test_predict = stacker.predict(x_test)\n",
        "print(np.sqrt(mean_squared_error(y_test, y_test_predict)))"
      ],
      "metadata": {
        "colab": {
          "base_uri": "https://localhost:8080/"
        },
        "id": "zje4FZOSC9YO",
        "outputId": "42e2a1fc-5a94-4acc-c63a-f13ea7ff6e78"
      },
      "execution_count": 52,
      "outputs": [
        {
          "output_type": "stream",
          "name": "stdout",
          "text": [
            "0.04632904291365646\n"
          ]
        }
      ]
    },
    {
      "cell_type": "markdown",
      "source": [
        "# Results"
      ],
      "metadata": {
        "id": "nhZvZn6SyMXA"
      }
    },
    {
      "cell_type": "markdown",
      "source": [
        "## Knearest Neighbor Model"
      ],
      "metadata": {
        "id": "CcnxLaLnaRmQ"
      }
    },
    {
      "cell_type": "markdown",
      "source": [
        "\n",
        "\n",
        "*  Variables:qualifying 1, qualifying 2, qualifying 3, qualifying rainfall,qualifying humidity, qualilfying race, and race rainfall\n",
        "*  Optimal K = 15\n",
        "*  MinMaxScaler with euclidean\n",
        "*  Validation RMSE = 0.020183098285318942\n",
        "*  Test RMSE = 0.03708017904287747\n",
        "\n",
        "\n",
        "\n",
        "\n"
      ],
      "metadata": {
        "id": "k7YGcsBIa8F1"
      }
    },
    {
      "cell_type": "markdown",
      "source": [
        "## Linear Regression Model"
      ],
      "metadata": {
        "id": "IqrKJRsxaYci"
      }
    },
    {
      "cell_type": "markdown",
      "source": [
        "*  Variables: qualifying 1, qualifying 2, qualifying 3, qualifying humidity, qualifying rainfall, race humidity, and race rainfall\n",
        "*  Validation RMSE =  0.021864026406596872\n",
        "*  Test RMSE = 0.08800855265837021"
      ],
      "metadata": {
        "id": "i7RYSbrObPD7"
      }
    },
    {
      "cell_type": "markdown",
      "source": [
        "## Ensemble Model"
      ],
      "metadata": {
        "id": "Zl223fAjatDr"
      }
    },
    {
      "cell_type": "markdown",
      "source": [
        "**Voting Model**\n",
        "*  Variables: qualifying 1, qualifying 2, qualifying 3, qualifying humidity, qualifying rainfall, race humidity, and race rainfall\n",
        "*  Validation RMSE = 0.02062239838143961\n",
        "*  Test RMSE =  0.05486751751172725"
      ],
      "metadata": {
        "id": "ygZY7iJFbQct"
      }
    },
    {
      "cell_type": "markdown",
      "source": [
        "**Stacking Model**\n",
        "*  Variables: qualifying 1, qualifying 2, qualifying 3, qualifying humidity, qualifying rainfall, race humidity, and race rainfall\n",
        "*  Validation RMSE = 0.021011837886708823\n",
        "*  Test RMSE = 0.04632904291365646  "
      ],
      "metadata": {
        "id": "ee7EARBaf4Kk"
      }
    }
  ]
}